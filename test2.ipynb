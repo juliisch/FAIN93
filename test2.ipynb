{
 "cells": [
  {
   "cell_type": "code",
   "execution_count": 18,
   "metadata": {},
   "outputs": [],
   "source": [
    "import tensorflow as tf\n",
    "from tensorflow import keras\n",
    "from tensorflow.keras import layers\n",
    "from sklearn.model_selection import train_test_split\n",
    "from sklearn.preprocessing import StandardScaler\n",
    "import numpy as np\n",
    "import pandas as pd\n"
   ]
  },
  {
   "cell_type": "code",
   "execution_count": 19,
   "metadata": {},
   "outputs": [
    {
     "data": {
      "text/html": [
       "<div>\n",
       "<style scoped>\n",
       "    .dataframe tbody tr th:only-of-type {\n",
       "        vertical-align: middle;\n",
       "    }\n",
       "\n",
       "    .dataframe tbody tr th {\n",
       "        vertical-align: top;\n",
       "    }\n",
       "\n",
       "    .dataframe thead th {\n",
       "        text-align: right;\n",
       "    }\n",
       "</style>\n",
       "<table border=\"1\" class=\"dataframe\">\n",
       "  <thead>\n",
       "    <tr style=\"text-align: right;\">\n",
       "      <th></th>\n",
       "      <th>Age</th>\n",
       "      <th>Occupation</th>\n",
       "      <th>Annual_Income</th>\n",
       "      <th>Monthly_Inhand_Salary</th>\n",
       "      <th>Num_Bank_Accounts</th>\n",
       "      <th>Num_Credit_Card</th>\n",
       "      <th>Interest_Rate</th>\n",
       "      <th>Num_of_Loan</th>\n",
       "      <th>Delay_from_due_date</th>\n",
       "      <th>Num_of_Delayed_Payment</th>\n",
       "      <th>...</th>\n",
       "      <th>Payment_of_Min_Amount</th>\n",
       "      <th>Total_EMI_per_month</th>\n",
       "      <th>Amount_invested_monthly</th>\n",
       "      <th>Monthly_Balance</th>\n",
       "      <th>Credit_Score</th>\n",
       "      <th>Credit_History_Age_Month</th>\n",
       "      <th>Loan</th>\n",
       "      <th>Spent</th>\n",
       "      <th>ValuePayments</th>\n",
       "      <th>Sex</th>\n",
       "    </tr>\n",
       "  </thead>\n",
       "  <tbody>\n",
       "    <tr>\n",
       "      <th>0</th>\n",
       "      <td>23</td>\n",
       "      <td>6.0</td>\n",
       "      <td>19114.12</td>\n",
       "      <td>1824.843333</td>\n",
       "      <td>3</td>\n",
       "      <td>4</td>\n",
       "      <td>3</td>\n",
       "      <td>4</td>\n",
       "      <td>3</td>\n",
       "      <td>8.0</td>\n",
       "      <td>...</td>\n",
       "      <td>0</td>\n",
       "      <td>49.574949</td>\n",
       "      <td>178.344067</td>\n",
       "      <td>244.565317</td>\n",
       "      <td>2</td>\n",
       "      <td>271.0</td>\n",
       "      <td>4</td>\n",
       "      <td>0.0</td>\n",
       "      <td>0.0</td>\n",
       "      <td>1.0</td>\n",
       "    </tr>\n",
       "    <tr>\n",
       "      <th>1</th>\n",
       "      <td>28</td>\n",
       "      <td>14.0</td>\n",
       "      <td>34847.84</td>\n",
       "      <td>3037.986667</td>\n",
       "      <td>2</td>\n",
       "      <td>4</td>\n",
       "      <td>6</td>\n",
       "      <td>1</td>\n",
       "      <td>7</td>\n",
       "      <td>1.0</td>\n",
       "      <td>...</td>\n",
       "      <td>0</td>\n",
       "      <td>18.816215</td>\n",
       "      <td>40.391238</td>\n",
       "      <td>484.591214</td>\n",
       "      <td>2</td>\n",
       "      <td>320.0</td>\n",
       "      <td>1</td>\n",
       "      <td>1.0</td>\n",
       "      <td>2.0</td>\n",
       "      <td>1.0</td>\n",
       "    </tr>\n",
       "    <tr>\n",
       "      <th>2</th>\n",
       "      <td>28</td>\n",
       "      <td>14.0</td>\n",
       "      <td>34847.84</td>\n",
       "      <td>3037.986667</td>\n",
       "      <td>2</td>\n",
       "      <td>4</td>\n",
       "      <td>6</td>\n",
       "      <td>1</td>\n",
       "      <td>3</td>\n",
       "      <td>1.0</td>\n",
       "      <td>...</td>\n",
       "      <td>0</td>\n",
       "      <td>18.816215</td>\n",
       "      <td>130.115420</td>\n",
       "      <td>444.867032</td>\n",
       "      <td>2</td>\n",
       "      <td>323.0</td>\n",
       "      <td>1</td>\n",
       "      <td>0.0</td>\n",
       "      <td>0.0</td>\n",
       "      <td>1.0</td>\n",
       "    </tr>\n",
       "    <tr>\n",
       "      <th>3</th>\n",
       "      <td>28</td>\n",
       "      <td>14.0</td>\n",
       "      <td>34847.84</td>\n",
       "      <td>3037.986667</td>\n",
       "      <td>2</td>\n",
       "      <td>4</td>\n",
       "      <td>6</td>\n",
       "      <td>1</td>\n",
       "      <td>3</td>\n",
       "      <td>0.0</td>\n",
       "      <td>...</td>\n",
       "      <td>0</td>\n",
       "      <td>18.816215</td>\n",
       "      <td>43.477190</td>\n",
       "      <td>481.505262</td>\n",
       "      <td>2</td>\n",
       "      <td>324.0</td>\n",
       "      <td>1</td>\n",
       "      <td>1.0</td>\n",
       "      <td>2.0</td>\n",
       "      <td>1.0</td>\n",
       "    </tr>\n",
       "    <tr>\n",
       "      <th>4</th>\n",
       "      <td>28</td>\n",
       "      <td>14.0</td>\n",
       "      <td>34847.84</td>\n",
       "      <td>3037.986667</td>\n",
       "      <td>2</td>\n",
       "      <td>4</td>\n",
       "      <td>6</td>\n",
       "      <td>1</td>\n",
       "      <td>3</td>\n",
       "      <td>4.0</td>\n",
       "      <td>...</td>\n",
       "      <td>0</td>\n",
       "      <td>18.816215</td>\n",
       "      <td>218.904344</td>\n",
       "      <td>356.078109</td>\n",
       "      <td>2</td>\n",
       "      <td>326.0</td>\n",
       "      <td>1</td>\n",
       "      <td>0.0</td>\n",
       "      <td>0.0</td>\n",
       "      <td>1.0</td>\n",
       "    </tr>\n",
       "  </tbody>\n",
       "</table>\n",
       "<p>5 rows × 25 columns</p>\n",
       "</div>"
      ],
      "text/plain": [
       "   Age  Occupation  Annual_Income  Monthly_Inhand_Salary  Num_Bank_Accounts  \\\n",
       "0   23         6.0       19114.12            1824.843333                  3   \n",
       "1   28        14.0       34847.84            3037.986667                  2   \n",
       "2   28        14.0       34847.84            3037.986667                  2   \n",
       "3   28        14.0       34847.84            3037.986667                  2   \n",
       "4   28        14.0       34847.84            3037.986667                  2   \n",
       "\n",
       "   Num_Credit_Card  Interest_Rate  Num_of_Loan  Delay_from_due_date  \\\n",
       "0                4              3            4                    3   \n",
       "1                4              6            1                    7   \n",
       "2                4              6            1                    3   \n",
       "3                4              6            1                    3   \n",
       "4                4              6            1                    3   \n",
       "\n",
       "   Num_of_Delayed_Payment  ...  Payment_of_Min_Amount  Total_EMI_per_month  \\\n",
       "0                     8.0  ...                      0            49.574949   \n",
       "1                     1.0  ...                      0            18.816215   \n",
       "2                     1.0  ...                      0            18.816215   \n",
       "3                     0.0  ...                      0            18.816215   \n",
       "4                     4.0  ...                      0            18.816215   \n",
       "\n",
       "   Amount_invested_monthly  Monthly_Balance  Credit_Score  \\\n",
       "0               178.344067       244.565317             2   \n",
       "1                40.391238       484.591214             2   \n",
       "2               130.115420       444.867032             2   \n",
       "3                43.477190       481.505262             2   \n",
       "4               218.904344       356.078109             2   \n",
       "\n",
       "   Credit_History_Age_Month  Loan  Spent  ValuePayments  Sex  \n",
       "0                     271.0     4    0.0            0.0  1.0  \n",
       "1                     320.0     1    1.0            2.0  1.0  \n",
       "2                     323.0     1    0.0            0.0  1.0  \n",
       "3                     324.0     1    1.0            2.0  1.0  \n",
       "4                     326.0     1    0.0            0.0  1.0  \n",
       "\n",
       "[5 rows x 25 columns]"
      ]
     },
     "execution_count": 19,
     "metadata": {},
     "output_type": "execute_result"
    }
   ],
   "source": [
    "df = pd.read_csv('test_datei.csv')  # Standardmäßig wird das Komma als Trennzeichen verwendet\n",
    "df.head()"
   ]
  },
  {
   "cell_type": "code",
   "execution_count": 20,
   "metadata": {},
   "outputs": [
    {
     "data": {
      "text/plain": [
       "<Axes: xlabel='Sex'>"
      ]
     },
     "execution_count": 20,
     "metadata": {},
     "output_type": "execute_result"
    },
    {
     "data": {
      "image/png": "[encoded data removed]",
      "text/plain": [
       "<Figure size 640x480 with 1 Axes>"
      ]
     },
     "metadata": {},
     "output_type": "display_data"
    }
   ],
   "source": [
    "import pandas as pd\n",
    "import numpy as np\n",
    "\n",
    "\n",
    "# Zähle die \"männlich\"-Einträge\n",
    "maennlich_count = df[df['Sex'] == 1].shape[0]\n",
    "\n",
    "# Bestimme, wie viele \"männlich\"-Einträge geändert werden sollen (80%)\n",
    "to_change = int(maennlich_count * 0.9)\n",
    "\n",
    "# Zufällig 80% der \"männlich\"-Einträge auswählen und auf \"weiblich\" setzen\n",
    "indices_to_change = df[df['Sex'] == 1].sample(n=to_change, random_state=42).index\n",
    "df.loc[indices_to_change, 'Sex'] = 0\n",
    "\n",
    "# Ergebnis anzeigen\n",
    "# df['Sex'].plot(kind='bar')\n",
    "sex_counts = df['Sex'].value_counts()\n",
    "sex_counts.plot(kind='bar')\n"
   ]
  },
  {
   "cell_type": "code",
   "execution_count": 21,
   "metadata": {},
   "outputs": [
    {
     "data": {
      "text/plain": [
       "array([2, 1, 0])"
      ]
     },
     "execution_count": 21,
     "metadata": {},
     "output_type": "execute_result"
    }
   ],
   "source": [
    "df['Credit_Score'].unique()"
   ]
  },
  {
   "cell_type": "code",
   "execution_count": 22,
   "metadata": {},
   "outputs": [],
   "source": [
    "y = df['Credit_Score']  \n",
    "X = df.drop('Credit_Score', axis=1)\n",
    "X_train, X_test, y_train, y_test = train_test_split(X, y, test_size=0.2, random_state=123)"
   ]
  },
  {
   "cell_type": "code",
   "execution_count": 23,
   "metadata": {},
   "outputs": [],
   "source": [
    "from sklearn.preprocessing import MinMaxScaler\n",
    "\n",
    "# MinMaxScaler nur auf die Features anwenden\n",
    "scaler = MinMaxScaler()\n",
    "X_train_scaled = scaler.fit_transform(X_train)\n",
    "X_test_scaled = scaler.transform(X_test)\n",
    "\n",
    "from keras.utils import to_categorical\n",
    "\n",
    "# One-Hot-Encoding der Zielvariable\n",
    "y_train_encoded = to_categorical(y_train, num_classes=3)\n",
    "y_test_encoded = to_categorical(y_test, num_classes=3)\n"
   ]
  },
  {
   "cell_type": "code",
   "execution_count": 24,
   "metadata": {},
   "outputs": [
    {
     "data": {
      "text/plain": [
       "(11539, 24)"
      ]
     },
     "execution_count": 24,
     "metadata": {},
     "output_type": "execute_result"
    }
   ],
   "source": [
    "X.shape"
   ]
  },
  {
   "cell_type": "code",
   "execution_count": 25,
   "metadata": {},
   "outputs": [
    {
     "name": "stdout",
     "output_type": "stream",
     "text": [
      "Epoch 1/20\n"
     ]
    },
    {
     "name": "stderr",
     "output_type": "stream",
     "text": [
      "/Library/Frameworks/Python.framework/Versions/3.11/lib/python3.11/site-packages/keras/src/layers/core/dense.py:87: UserWarning: Do not pass an `input_shape`/`input_dim` argument to a layer. When using Sequential models, prefer using an `Input(shape)` object as the first layer in the model instead.\n",
      "  super().__init__(activity_regularizer=activity_regularizer, **kwargs)\n"
     ]
    },
    {
     "name": "stdout",
     "output_type": "stream",
     "text": [
      "\u001b[1m289/289\u001b[0m \u001b[32m━━━━━━━━━━━━━━━━━━━━\u001b[0m\u001b[37m\u001b[0m \u001b[1m1s\u001b[0m 805us/step - accuracy: 0.4701 - loss: 1.0446 - val_accuracy: 0.5542 - val_loss: 0.8373\n",
      "Epoch 2/20\n",
      "\u001b[1m289/289\u001b[0m \u001b[32m━━━━━━━━━━━━━━━━━━━━\u001b[0m\u001b[37m\u001b[0m \u001b[1m0s\u001b[0m 426us/step - accuracy: 0.5802 - loss: 0.8623 - val_accuracy: 0.5715 - val_loss: 0.8159\n",
      "Epoch 3/20\n",
      "\u001b[1m289/289\u001b[0m \u001b[32m━━━━━━━━━━━━━━━━━━━━\u001b[0m\u001b[37m\u001b[0m \u001b[1m0s\u001b[0m 411us/step - accuracy: 0.5948 - loss: 0.8360 - val_accuracy: 0.5919 - val_loss: 0.8052\n",
      "Epoch 4/20\n",
      "\u001b[1m289/289\u001b[0m \u001b[32m━━━━━━━━━━━━━━━━━━━━\u001b[0m\u001b[37m\u001b[0m \u001b[1m0s\u001b[0m 415us/step - accuracy: 0.5926 - loss: 0.8177 - val_accuracy: 0.6023 - val_loss: 0.7861\n",
      "Epoch 5/20\n",
      "\u001b[1m289/289\u001b[0m \u001b[32m━━━━━━━━━━━━━━━━━━━━\u001b[0m\u001b[37m\u001b[0m \u001b[1m0s\u001b[0m 371us/step - accuracy: 0.5954 - loss: 0.8073 - val_accuracy: 0.6209 - val_loss: 0.7778\n",
      "Epoch 6/20\n",
      "\u001b[1m289/289\u001b[0m \u001b[32m━━━━━━━━━━━━━━━━━━━━\u001b[0m\u001b[37m\u001b[0m \u001b[1m0s\u001b[0m 370us/step - accuracy: 0.6058 - loss: 0.8028 - val_accuracy: 0.6261 - val_loss: 0.7713\n",
      "Epoch 7/20\n",
      "\u001b[1m289/289\u001b[0m \u001b[32m━━━━━━━━━━━━━━━━━━━━\u001b[0m\u001b[37m\u001b[0m \u001b[1m0s\u001b[0m 394us/step - accuracy: 0.6085 - loss: 0.7893 - val_accuracy: 0.6313 - val_loss: 0.7660\n",
      "Epoch 8/20\n",
      "\u001b[1m289/289\u001b[0m \u001b[32m━━━━━━━━━━━━━━━━━━━━\u001b[0m\u001b[37m\u001b[0m \u001b[1m0s\u001b[0m 369us/step - accuracy: 0.6137 - loss: 0.7737 - val_accuracy: 0.6356 - val_loss: 0.7622\n",
      "Epoch 9/20\n",
      "\u001b[1m289/289\u001b[0m \u001b[32m━━━━━━━━━━━━━━━━━━━━\u001b[0m\u001b[37m\u001b[0m \u001b[1m0s\u001b[0m 362us/step - accuracy: 0.6257 - loss: 0.7638 - val_accuracy: 0.6378 - val_loss: 0.7584\n",
      "Epoch 10/20\n",
      "\u001b[1m289/289\u001b[0m \u001b[32m━━━━━━━━━━━━━━━━━━━━\u001b[0m\u001b[37m\u001b[0m \u001b[1m0s\u001b[0m 365us/step - accuracy: 0.6342 - loss: 0.7616 - val_accuracy: 0.6399 - val_loss: 0.7514\n",
      "Epoch 11/20\n",
      "\u001b[1m289/289\u001b[0m \u001b[32m━━━━━━━━━━━━━━━━━━━━\u001b[0m\u001b[37m\u001b[0m \u001b[1m0s\u001b[0m 472us/step - accuracy: 0.6327 - loss: 0.7568 - val_accuracy: 0.6529 - val_loss: 0.7472\n",
      "Epoch 12/20\n",
      "\u001b[1m289/289\u001b[0m \u001b[32m━━━━━━━━━━━━━━━━━━━━\u001b[0m\u001b[37m\u001b[0m \u001b[1m0s\u001b[0m 382us/step - accuracy: 0.6236 - loss: 0.7518 - val_accuracy: 0.6538 - val_loss: 0.7473\n",
      "Epoch 13/20\n",
      "\u001b[1m289/289\u001b[0m \u001b[32m━━━━━━━━━━━━━━━━━━━━\u001b[0m\u001b[37m\u001b[0m \u001b[1m0s\u001b[0m 368us/step - accuracy: 0.6381 - loss: 0.7480 - val_accuracy: 0.6447 - val_loss: 0.7431\n",
      "Epoch 14/20\n",
      "\u001b[1m289/289\u001b[0m \u001b[32m━━━━━━━━━━━━━━━━━━━━\u001b[0m\u001b[37m\u001b[0m \u001b[1m0s\u001b[0m 359us/step - accuracy: 0.6339 - loss: 0.7365 - val_accuracy: 0.6521 - val_loss: 0.7421\n",
      "Epoch 15/20\n",
      "\u001b[1m289/289\u001b[0m \u001b[32m━━━━━━━━━━━━━━━━━━━━\u001b[0m\u001b[37m\u001b[0m \u001b[1m0s\u001b[0m 359us/step - accuracy: 0.6483 - loss: 0.7416 - val_accuracy: 0.6564 - val_loss: 0.7420\n",
      "Epoch 16/20\n",
      "\u001b[1m289/289\u001b[0m \u001b[32m━━━━━━━━━━━━━━━━━━━━\u001b[0m\u001b[37m\u001b[0m \u001b[1m0s\u001b[0m 358us/step - accuracy: 0.6401 - loss: 0.7525 - val_accuracy: 0.6577 - val_loss: 0.7389\n",
      "Epoch 17/20\n",
      "\u001b[1m289/289\u001b[0m \u001b[32m━━━━━━━━━━━━━━━━━━━━\u001b[0m\u001b[37m\u001b[0m \u001b[1m0s\u001b[0m 360us/step - accuracy: 0.6457 - loss: 0.7362 - val_accuracy: 0.6620 - val_loss: 0.7367\n",
      "Epoch 18/20\n",
      "\u001b[1m289/289\u001b[0m \u001b[32m━━━━━━━━━━━━━━━━━━━━\u001b[0m\u001b[37m\u001b[0m \u001b[1m0s\u001b[0m 360us/step - accuracy: 0.6470 - loss: 0.7400 - val_accuracy: 0.6603 - val_loss: 0.7333\n",
      "Epoch 19/20\n",
      "\u001b[1m289/289\u001b[0m \u001b[32m━━━━━━━━━━━━━━━━━━━━\u001b[0m\u001b[37m\u001b[0m \u001b[1m0s\u001b[0m 357us/step - accuracy: 0.6515 - loss: 0.7299 - val_accuracy: 0.6564 - val_loss: 0.7327\n",
      "Epoch 20/20\n",
      "\u001b[1m289/289\u001b[0m \u001b[32m━━━━━━━━━━━━━━━━━━━━\u001b[0m\u001b[37m\u001b[0m \u001b[1m0s\u001b[0m 356us/step - accuracy: 0.6426 - loss: 0.7379 - val_accuracy: 0.6564 - val_loss: 0.7326\n"
     ]
    },
    {
     "data": {
      "text/plain": [
       "<keras.src.callbacks.history.History at 0x31a4f4790>"
      ]
     },
     "execution_count": 25,
     "metadata": {},
     "output_type": "execute_result"
    }
   ],
   "source": [
    "# Modell definieren\n",
    "model = keras.Sequential([\n",
    "    layers.Dense(64, activation=\"relu\", input_shape=(24,)),  \n",
    "    layers.Dropout(0.5),  \n",
    "    layers.Dense(32, activation=\"relu\"),\n",
    "    layers.Dropout(0.5),  \n",
    "    layers.Dense(3, activation=\"softmax\")  \n",
    "])\n",
    "\n",
    "# Modell kompilieren\n",
    "model.compile(optimizer=\"adam\", loss=\"categorical_crossentropy\", metrics=[\"accuracy\"])\n",
    "\n",
    "# Training starten\n",
    "model.fit(X_train_scaled, y_train_encoded, epochs=20, batch_size=32, validation_data=(X_test_scaled, y_test_encoded))\n"
   ]
  },
  {
   "cell_type": "code",
   "execution_count": 26,
   "metadata": {},
   "outputs": [
    {
     "name": "stdout",
     "output_type": "stream",
     "text": [
      "\u001b[1m73/73\u001b[0m \u001b[32m━━━━━━━━━━━━━━━━━━━━\u001b[0m\u001b[37m\u001b[0m \u001b[1m0s\u001b[0m 231us/step - accuracy: 0.6566 - loss: 0.7350\n",
      "Test Accuracy: 0.6564\n"
     ]
    }
   ],
   "source": [
    "# Modell evaluieren\n",
    "test_loss, test_acc = model.evaluate(X_test_scaled, y_test_encoded)\n",
    "print(f\"Test Accuracy: {test_acc:.4f}\")"
   ]
  },
  {
   "cell_type": "code",
   "execution_count": 27,
   "metadata": {},
   "outputs": [
    {
     "name": "stdout",
     "output_type": "stream",
     "text": [
      "\u001b[1m73/73\u001b[0m \u001b[32m━━━━━━━━━━━━━━━━━━━━\u001b[0m\u001b[37m\u001b[0m \u001b[1m0s\u001b[0m 382us/step\n"
     ]
    }
   ],
   "source": [
    "# Vorhersagen für das Testset\n",
    "y_pred_proba = model.predict(X_test_scaled)\n",
    "y_pred = y_pred_proba.argmax(axis=1)  # Umwandlung von Wahrscheinlichkeiten in Vorhersagen\n",
    "# group_variable = df['Sex']\n"
   ]
  },
  {
   "cell_type": "code",
   "execution_count": 28,
   "metadata": {},
   "outputs": [],
   "source": [
    "X_test_results = X_test.copy()  \n",
    "X_test_results[\"Predicted\"] = y_pred \n"
   ]
  },
  {
   "cell_type": "code",
   "execution_count": 29,
   "metadata": {},
   "outputs": [
    {
     "data": {
      "text/plain": [
       "0.08939805547612234"
      ]
     },
     "execution_count": 29,
     "metadata": {},
     "output_type": "execute_result"
    }
   ],
   "source": [
    "# Statistical Parity: \n",
    "\n",
    "p_positive_male = X_test_results[X_test_results['Sex'] == 1]['Predicted'].mean()\n",
    "p_positive_female = X_test_results[X_test_results['Sex'] == 0]['Predicted'].mean()\n",
    "\n",
    "group_stats = X_test_results.groupby('Sex')['Predicted'].mean()\n",
    "statistical_parity = group_stats[0] - group_stats[1]\n",
    "statistical_parity\n",
    "\n",
    "# statistical_parity = p_positive_male - p_positive_female\n",
    "# print(f\"P(positiv | männlich): {p_positive_male:.2f}\")\n",
    "# print(f\"P(positiv | weiblich): {p_positive_female:.2f}\")\n",
    "# print(f\"Statistical Parity Difference: {statistical_parity:.2f}\")\n"
   ]
  }
 ],
 "metadata": {
  "kernelspec": {
   "display_name": "Python 3",
   "language": "python",
   "name": "python3"
  },
  "language_info": {
   "codemirror_mode": {
    "name": "ipython",
    "version": 3
   },
   "file_extension": ".py",
   "mimetype": "text/x-python",
   "name": "python",
   "nbconvert_exporter": "python",
   "pygments_lexer": "ipython3",
   "version": "3.11.4"
  }
 },
 "nbformat": 4,
 "nbformat_minor": 2
}
