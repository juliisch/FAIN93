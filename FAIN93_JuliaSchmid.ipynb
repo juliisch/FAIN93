{
 "cells": [
  {
   "cell_type": "markdown",
   "metadata": {},
   "source": [
    "Digital Business University of Applied Sciences\n",
    "\n",
    "Data Science und Management (M. Sc.)\n",
    "\n",
    "FAIN93 SP IV Modul 3: Forschungsprojekt Artificial Intelligence\n",
    "\n",
    "Claudia Baldermann\n",
    "\n",
    "Julia Schmid (200022)"
   ]
  },
  {
   "cell_type": "markdown",
   "metadata": {},
   "source": [
    "***\n",
    "## Identifikation von intersektionalem Repräsentationsbias in Textdaten\n",
    "***"
   ]
  },
  {
   "cell_type": "markdown",
   "metadata": {},
   "source": [
    "In diesem Jupyter-Notebook werden quantitative Methoden zur Identifizierung von intersektionalem Repräsentationbias auf die Bildbeschriftungen des Flickr 8k Datensatz vom Kaggle (ADITYA,o. J.) angewendet und miteinander verglichen."
   ]
  },
  {
   "cell_type": "markdown",
   "metadata": {},
   "source": [
    "### **Import der benötigten Pakete**"
   ]
  },
  {
   "cell_type": "code",
   "execution_count": 32,
   "metadata": {},
   "outputs": [],
   "source": [
    "# Imports\n",
    "import certifi\n",
    "import gensim.downloader as api\n",
    "import kagglehub\n",
    "import math\n",
    "import matplotlib.pyplot as plt\n",
    "import nltk\n",
    "import numpy as np\n",
    "import os\n",
    "import pandas as pd\n",
    "import re\n",
    "import scipy.stats as stats\n",
    "import seaborn as sns\n",
    "import shutil\n",
    "import spacy\n",
    "import ssl\n",
    "import string\n",
    "\n",
    "from collections import Counter\n",
    "from gensim.models import KeyedVectors\n",
    "from gensim.scripts.glove2word2vec import glove2word2vec\n",
    "from nltk.corpus import stopwords\n",
    "from nltk.tokenize import word_tokenize\n",
    "from openpyxl import Workbook\n",
    "from transformers import pipeline\n",
    "from wefe.metrics import WEAT\n",
    "from wefe.query import Query\n",
    "from wefe.word_embedding_model import WordEmbeddingModel\n",
    "from wordcloud import WordCloud"
   ]
  },
  {
   "cell_type": "markdown",
   "metadata": {},
   "source": [
    "### **Einlesen der Daten**\n",
    "\n",
    "Im Datensatz sind sowohl Bilddaten als auch die zugehörigen Beschreibungen enthalten. Für die weitere Verarbeitung werden nur die Bildbeschreibungen benötigt."
   ]
  },
  {
   "cell_type": "code",
   "execution_count": 33,
   "metadata": {},
   "outputs": [],
   "source": [
    "# Daten Downloadpfad\n",
    "path = kagglehub.dataset_download(\"adityajn105/flickr8k\")\n",
    "\n",
    "# Textdatei in das Zielverzeichnis kopieren\n",
    "target_dir = \"./Input\"\n",
    "os.makedirs(target_dir, exist_ok=True) # Zielverzeichnig erstellen (falls dieses noch nicht existiert)\n",
    "for filename in os.listdir(path):\n",
    "    if filename.endswith(\".txt\"):\n",
    "        shutil.copy(os.path.join(path, filename), os.path.join(target_dir, filename))\n",
    "\n",
    "# Für die Weiterverarbeitung wird die Textdatei als DataFrame gespeichert\n",
    "df = pd.read_csv('Input/captions.txt', sep=',')"
   ]
  },
  {
   "cell_type": "markdown",
   "metadata": {},
   "source": [
    "### **Datenaufbereitung**"
   ]
  },
  {
   "cell_type": "code",
   "execution_count": 34,
   "metadata": {},
   "outputs": [],
   "source": [
    "# Bereinigung \n",
    "\n",
    "'''\n",
    "Funktion:       Bereinigung der Beschriftungen durch das Entfernen von verschiedenen Formatierungszeichen\n",
    "Input:          caption (Beschriftung)\n",
    "Output:         caption (bereinigter Beschriftung)\n",
    "Funktionsweise: Die übergebene Beschriftung wird in Kleinbuchstaben umgewandelt. Anschließend werden Satzzeichen, Zahlen, einzelnen Buchstaben sowie überflüssigen Leerzeichen entfernt.\n",
    "'''\n",
    "def clean_caption(caption):\n",
    "    caption = caption.lower() # Umwandlung in Kleinbuchstaben\n",
    "    caption = caption.translate(str.maketrans('', '', string.punctuation))  # Entfernung von Satzzeichen\n",
    "    caption = re.sub(r'\\d+', '', caption)  # Entfernung von Zahlen\n",
    "    caption = re.sub(r'\\b\\w\\b', '', caption)  # Entfernung von einzelne Buchstaben\n",
    "    caption = re.sub(r'\\s+', ' ', caption).strip()  # Entfernung von überflüssigen Leerzeichen\n",
    "    return caption\n",
    "\n",
    "# Anwendung der Funktion clean_caption auf die Bildbeschriftungen (captions)\n",
    "df['clean_caption'] = df['caption'].apply(clean_caption)\n",
    "\n",
    "\n",
    "# Quelle: Berknology. Text preprocessing for Natural Language Processing. Abgerufen am 04.07.2025 von https://github.com/berknology/text-preprocessing/blob/master/text preprocessing/text preprocessing.py"
   ]
  },
  {
   "cell_type": "code",
   "execution_count": 35,
   "metadata": {},
   "outputs": [],
   "source": [
    "# Tokenisierung\n",
    "\n",
    "'''\n",
    "Funktion:       Zerlegung der Beschriftungen in Token (einzelne Worte)\n",
    "Input:          caption (Beschriftung)\n",
    "Output:         tokens (aufgetrenter Beschriftung)\n",
    "Funktionsweise: Die übergebende Beschriftung wird in ihre Satzbestandteile in Tokens zerlegt.\n",
    "'''\n",
    "def tokenize_caption(caption):\n",
    "    tokens = word_tokenize(caption)\n",
    "    return tokens\n",
    "\n",
    "# Anwendung der Funktion tokenize_caption auf die bereinigten Bildbeschriftungen (clean_caption)\n",
    "df['clean_caption'] = df['clean_caption'].apply(tokenize_caption)\n",
    "\n",
    "\n",
    "# Quelle: Berknology. Text preprocessing for Natural Language Processing. Abgerufen am 04.07.2025 von https://github.com/berknology/text-preprocessing/blob/master/text preprocessing/text preprocessing.py"
   ]
  },
  {
   "cell_type": "code",
   "execution_count": 36,
   "metadata": {},
   "outputs": [
    {
     "name": "stderr",
     "output_type": "stream",
     "text": [
      "[nltk_data] Downloading package stopwords to\n",
      "[nltk_data]     /Users/juliaschmid/nltk_data...\n",
      "[nltk_data]   Package stopwords is already up-to-date!\n"
     ]
    }
   ],
   "source": [
    "# Stoppworte entfernen\n",
    "\n",
    "# Einstellung für das Laden der Stopwörter\n",
    "ssl._create_default_https_context = lambda: ssl.create_default_context(cafile=certifi.where())\n",
    "\n",
    "# Laden der Stopwörter\n",
    "nltk.download('stopwords')\n",
    "stop_words = set(stopwords.words('english'))\n",
    "\n",
    "# Alle Stopwörter werden aus den tokenisierten Beschriftungen entfernt\n",
    "df['clean_caption'] = df['clean_caption'].apply(lambda tokens: [token for token in tokens if token.lower() not in stop_words])\n",
    "\n",
    "\n",
    "# Quelle: Berknology. Text preprocessing for Natural Language Processing. Abgerufen am 04.07.2025 von https://github.com/berknology/text-preprocessing/blob/master/text preprocessing/text preprocessing.py"
   ]
  },
  {
   "cell_type": "code",
   "execution_count": 37,
   "metadata": {},
   "outputs": [],
   "source": [
    "# Erstellung eines Strings für jede Token-Liste einer Beschriftung\n",
    "df[\"clean_caption_string\"] = df[\"clean_caption\"].apply(lambda x: \" \".join(x)) "
   ]
  },
  {
   "cell_type": "markdown",
   "metadata": {},
   "source": [
    "### **Bestimmung geschlechtsbezogenen und ethnischen Begriffe in den Beschriftungen**"
   ]
  },
  {
   "cell_type": "code",
   "execution_count": 38,
   "metadata": {},
   "outputs": [],
   "source": [
    "list_female_words = [\n",
    "    \"woman\", \"women\", \"girl\", \"girls\", \n",
    "    \"lady\", \"ladies\",\"mommy\", \"mother\", \n",
    "    \"daughter\", \"wife\", \"girlfriend\", \"girlfriends\", \n",
    "    \"sister\", \"sisters\", \"miss\", \"mrs\",\n",
    "    \"princess\", \"queen\", \"widow\", \"female\", \n",
    "    \"aunt\",\"she\", \"her\"\n",
    "]\n",
    "\n",
    "list_male_words = [\n",
    "    \"man\", \"men\", \"boy\", \"boys\", \n",
    "    \"gentleman\", \"gentlemen\",\"dad\", \n",
    "    \"father\", \"son\", \"husband\", \"boyfriend\",\n",
    "    \"boyfriends\", \"brother\", \"brothers\", \"mr\", \n",
    "    \"sir\",\"prince\", \"king\", \"widower\", \n",
    "    \"male\", \"uncle\",\"he\", \"his\"\n",
    "]\n",
    "\n",
    "list_black_words = [\"black\", \"african\", \n",
    "                    \"afro\",\"colored\", \n",
    "                    ]\n",
    "\n",
    "list_white_words = [\"white\", \"caucasian\", \n",
    "                     \"european\",  \"western\"\n",
    "                    ]\n",
    "\n",
    "# Bestimmung der gruppenübergreifenden Wortlisten\n",
    "list_female_white_words = list_female_words + list_white_words\n",
    "list_female_black_words = list_female_words + list_black_words\n",
    "list_male_white_words = list_male_words + list_white_words\n",
    "list_male_black_words = list_male_words + list_black_words"
   ]
  },
  {
   "cell_type": "code",
   "execution_count": 39,
   "metadata": {},
   "outputs": [],
   "source": [
    "# Klassifizierung der Beschriftungen\n",
    "\n",
    "'''\n",
    "Funktion:       Klassifikation von Beschriftungen auf Grundlage des Vorkommens gruppenspezifischer Begriffe und Zählung dieser Begriffe\n",
    "Input:          token_caption (Beschriftungs-Token-Liste)\n",
    "                list_words_1 (Wortliste der ersten Gruppe)\n",
    "                list_words_2 (Wortliste der zweiten Gruppe)\n",
    "                label_1 (Label für die ersten Gruppe)\n",
    "                label_2 (Label für die zweite Gruppe)\n",
    "Output:         label (Klassenlabel)\n",
    "Funktionsweise: Es wird in der übergebenden Beschriftungs-Token-Liste gezählt, wie oft ein Wort aus den beiden gruppenspezifischen Wortlisten vorkommen.\n",
    "                Wird mindestens ein Wort aus beiden Gruppen gefunden, so wird die Beschriftung als \"nicht eindeutig\" klassifiziert.\n",
    "                Wird mindestens ein Wort aus nur einem der beiden Gruppen gefunden, so wird die Beschriftung mit dem dazugehörigen Label klassifiziert.\n",
    "                Wird kein Wort aus den beiden Gruppen gefunden, so wird die Beschriftung mit \"none\" klassifiziert.\n",
    "'''\n",
    "def classify_caption(token_caption, list_words_1, list_words_2, label_1, label_2):\n",
    "    count_words_1 = sum(token_caption.count(word) for word in list_words_1) # Zählung der Begriffe aus Wortvorkommen Gruppe 1\n",
    "    count_words_2 = sum(token_caption.count(word) for word in list_words_2) # Zählung der Begriffe aus Wortvorkommen Gruppe 2\n",
    "\n",
    "    label = \"none\"\n",
    "    if count_words_1 >= 1 and count_words_2 >= 1: # Beide Gruppen\n",
    "        label = \"nicht eindeutig\"\n",
    "    elif count_words_1 >= 1: # Nur Gruppe 1\n",
    "        label = label_1\n",
    "    elif count_words_2 >= 1: # Nur Gruppe 2\n",
    "        label = label_2\n",
    "    else: # Keine Gruppe \n",
    "        label = \"none\"\n",
    "\n",
    "    return label, count_words_1, count_words_2\n",
    "\n",
    "\n",
    "# Anwendung der Funktion classify_caption auf die geschlechtsspezifischen Wortgruppen\n",
    "df[[\"gender\", \"count_female\", \"count_male\"]] = df[\"clean_caption\"].apply(lambda x: pd.Series(classify_caption(x, list_female_words, list_male_words, \"weiblich\", \"männlich\")))\n",
    "# Anwendung der Funktion classify_caption auf die ethnischen Wortgruppen\n",
    "df[[\"race\", \"count_black\", \"count_white\"]] = df[\"clean_caption\"].apply(lambda x: pd.Series(classify_caption(x, list_black_words, list_white_words, \"schwarz\", \"weiß\")))\n",
    "\n",
    "# Zusammenführung der beiden Klassen\n",
    "df['gender_race'] = df['gender'] + ' - ' + df['race']\n",
    "\n",
    "# Bestimmung der intersektionellen Gruppen\n",
    "intersectional_groups = [\n",
    "    ('männlich - schwarz', 'weiblich - weiß'),\n",
    "    ('männlich - weiß', 'weiblich - weiß'),\n",
    "    ('männlich - schwarz', 'weiblich - schwarz'),\n",
    "    ('männlich - weiß', 'weiblich - schwarz')\n",
    "]\n",
    "\n",
    "# Gesamtanzahl der Wortvorkommen über alle Wortgruppen pro Beschriftung\n",
    "df[\"count_total\"] = df[\"count_female\"] + df[\"count_male\"] + df[\"count_black\"] + df[\"count_white\"]\n",
    " "
   ]
  },
  {
   "cell_type": "code",
   "execution_count": 40,
   "metadata": {},
   "outputs": [],
   "source": [
    "# Es werden nur die Kombinationen \"weiblich - schwarz\", \"weiblich - weiß\", \"männlich - schwarz\", \"männlich - weiß\" betrachtet\n",
    "df = df[df['gender_race'].isin(['weiblich - schwarz', 'weiblich - weiß', 'männlich - schwarz', 'männlich - weiß'])]"
   ]
  },
  {
   "cell_type": "markdown",
   "metadata": {},
   "source": [
    "#### **Evaluationsfunktion**"
   ]
  },
  {
   "cell_type": "code",
   "execution_count": 41,
   "metadata": {},
   "outputs": [],
   "source": [
    "'''\n",
    "Funktion:       Bestimmung des Cohen's d Wert\n",
    "Input:          group1 (Daten der Gruppe 1)\n",
    "                group2 (Daten der Gruppe 1)\n",
    "Output:         d (Cohen's d Wert)\n",
    "Funktionsweise: Für die Gruppe 1 und 2 wird jeweils der Mittelwert, die Standardabweichung und die Gruppengröße bestimmt. \n",
    "                Basierend auf den Standardabweichungen der beiden Gruppen wird die gesamt Standardabweichung bestimmt.\n",
    "                Anschließend wird der Cohen's d Wert gemäß der Cohen's d Formel berechnet.\n",
    "'''\n",
    "def calculate_cohens_d(group1, group2):\n",
    "    # Mittelwerte\n",
    "    mean1 = np.mean(group1)\n",
    "    mean2 = np.mean(group2)\n",
    "    # Standardabweichungen\n",
    "    std1 = np.std(group1, ddof=1)\n",
    "    std2 = np.std(group2, ddof=1)\n",
    "    # Gruppengröße\n",
    "    n1 = len(group1)\n",
    "    n2 = len(group2)\n",
    "    # Standardabweichung\n",
    "    std = np.sqrt(((n1 - 1)*std1**2 + (n2 - 1)*std2**2) / (n1 + n2 - 2))\n",
    "    if std == 0:\n",
    "        return 0  # keine Division durch Null\n",
    "    # Cohen's d\n",
    "    d = round(abs((mean1 - mean2) / std),3)\n",
    "    return d\n",
    "\n",
    "# Definierung eines leeren Ergebnis-DataFrames\n",
    "df_evaluation = pd.DataFrame(intersectional_groups, columns=['Gruppe 1', 'Gruppe 2'])"
   ]
  },
  {
   "cell_type": "markdown",
   "metadata": {},
   "source": [
    "#### **Häufigkeitsanalyse**"
   ]
  },
  {
   "cell_type": "code",
   "execution_count": 42,
   "metadata": {},
   "outputs": [
    {
     "data": {
      "text/html": [
       "<div>\n",
       "<style scoped>\n",
       "    .dataframe tbody tr th:only-of-type {\n",
       "        vertical-align: middle;\n",
       "    }\n",
       "\n",
       "    .dataframe tbody tr th {\n",
       "        vertical-align: top;\n",
       "    }\n",
       "\n",
       "    .dataframe thead th {\n",
       "        text-align: right;\n",
       "    }\n",
       "</style>\n",
       "<table border=\"1\" class=\"dataframe\">\n",
       "  <thead>\n",
       "    <tr style=\"text-align: right;\">\n",
       "      <th></th>\n",
       "      <th>gender_race</th>\n",
       "      <th>count</th>\n",
       "      <th>percent</th>\n",
       "    </tr>\n",
       "  </thead>\n",
       "  <tbody>\n",
       "    <tr>\n",
       "      <th>0</th>\n",
       "      <td>männlich - schwarz</td>\n",
       "      <td>546</td>\n",
       "      <td>30.17</td>\n",
       "    </tr>\n",
       "    <tr>\n",
       "      <th>1</th>\n",
       "      <td>männlich - weiß</td>\n",
       "      <td>511</td>\n",
       "      <td>28.23</td>\n",
       "    </tr>\n",
       "    <tr>\n",
       "      <th>2</th>\n",
       "      <td>weiblich - weiß</td>\n",
       "      <td>380</td>\n",
       "      <td>20.99</td>\n",
       "    </tr>\n",
       "    <tr>\n",
       "      <th>3</th>\n",
       "      <td>weiblich - schwarz</td>\n",
       "      <td>373</td>\n",
       "      <td>20.61</td>\n",
       "    </tr>\n",
       "  </tbody>\n",
       "</table>\n",
       "</div>"
      ],
      "text/plain": [
       "          gender_race  count  percent\n",
       "0  männlich - schwarz    546    30.17\n",
       "1     männlich - weiß    511    28.23\n",
       "2     weiblich - weiß    380    20.99\n",
       "3  weiblich - schwarz    373    20.61"
      ]
     },
     "execution_count": 42,
     "metadata": {},
     "output_type": "execute_result"
    }
   ],
   "source": [
    "# Bestimmung der Anzahl der geschlechtsspezifischen und ethnischen Klassifizierungen\n",
    "race_gender_counts = df['gender_race'].value_counts()\n",
    "df_race_gender_counts = race_gender_counts.reset_index()\n",
    "df_race_gender_counts.columns = ['gender_race', 'count']\n",
    "\n",
    "# Bestimmung der prozentualen Verteilung der geschlechtsspezifischen und ethnischen Klassifizierungen\n",
    "race_gender_percent = df['gender_race'].value_counts(normalize=True) * 100\n",
    "df_race_gender_percent = race_gender_percent.reset_index()\n",
    "df_race_gender_percent.columns = ['gender_race', 'percent']\n",
    "df_race_gender_percent['percent'] = df_race_gender_percent['percent'].round(2)\n",
    "\n",
    "df_race_gender = df_race_gender_counts.merge(df_race_gender_percent, on='gender_race')\n",
    "df_race_gender"
   ]
  },
  {
   "cell_type": "code",
   "execution_count": 43,
   "metadata": {},
   "outputs": [
    {
     "name": "stdout",
     "output_type": "stream",
     "text": [
      "                    weiblich  männlich  schwarz  weiß  count_total\n",
      "gender_race                                                       \n",
      "männlich - schwarz         0       585      570     0         1155\n",
      "männlich - weiß            0       549        0   529         1078\n",
      "weiblich - schwarz       391         0      387     0          778\n",
      "weiblich - weiß          404         0        0   390          794\n"
     ]
    },
    {
     "data": {
      "image/png": "[encoded data removed]",
      "text/plain": [
       "<Figure size 1000x600 with 1 Axes>"
      ]
     },
     "metadata": {},
     "output_type": "display_data"
    }
   ],
   "source": [
    "# Bestimmung der Anzahl der Worthäufigkeiten pro intersektionelle Gruppe und pro Klassifizierung\n",
    "df_count = df.groupby('gender_race')[['count_female', 'count_male', 'count_black', 'count_white']].sum()\n",
    "df_count['count_total'] = df_count['count_female'] + df_count['count_male'] + df_count['count_black'] + df_count['count_white'] # Gesamtsumme pro Klassifizierung\n",
    "df_count = df_count.rename(columns={'count_female': 'weiblich','count_male': 'männlich','count_black': 'schwarz','count_white': 'weiß'}) # Umbenennung (für den Plot)\n",
    "print(df_count)\n",
    "\n",
    "# Plot: Worthäufigkeitensverteilung der geschlechtsspezifischen und ethnischen Klassifizierung\n",
    "fig, ax = plt.subplots(figsize=(10, 6))\n",
    "colors = ['#fa89dc', '#4994eb', '#d4ae6c', '#f0efaa']\n",
    "bottom = [0, 0, 0, 0] # Für die Bezeichnungen der oberen gestabelten Balken\n",
    "for idx, column in enumerate(['weiblich', 'männlich', 'schwarz', 'weiß']): # Werte innerhalb de Balken anzeigen\n",
    "    values = df_count[column]\n",
    "    bars = ax.bar(df_count.index, values, bottom=bottom, label=column, color=colors[idx])\n",
    "    for i, bar in enumerate(bars): \n",
    "        height = bar.get_height()\n",
    "        if height > 0:\n",
    "            ax.text(\n",
    "                bar.get_x() + bar.get_width() / 2,\n",
    "                bar.get_y() + height / 2,\n",
    "                str(int(height)),\n",
    "                ha='center', va='top',\n",
    "                color='white', fontsize=9\n",
    "            )\n",
    "\n",
    "    bottom = [bottom[i] + values.iloc[i] for i in range(len(bottom))]\n",
    "ax.yaxis.set_visible(False) # Y-Achse nicht anzeigen\n",
    "ax.spines['left'].set_visible(False) # Kein Rahmen\n",
    "ax.spines['top'].set_visible(False)\n",
    "ax.spines['right'].set_visible(False)\n",
    "plt.ylabel('')\n",
    "plt.xlabel('')\n",
    "plt.title('Worthäufigkeitensverteilung der geschlechtsspezifischen und ethnischen Klassifizierung')\n",
    "plt.xticks(rotation=45)\n",
    "ax.legend(title='Gruppe', loc='center left', bbox_to_anchor=(1, 0.5))\n",
    "plt.tight_layout()\n",
    "plt.show()"
   ]
  },
  {
   "cell_type": "code",
   "execution_count": 44,
   "metadata": {},
   "outputs": [
    {
     "name": "stdout",
     "output_type": "stream",
     "text": [
      "Cohen's d für 'männlich - schwarz' und 'weiblich - weiß': 0.077\n",
      "Cohen's d für 'männlich - weiß' und 'weiblich - weiß': 0.059\n",
      "Cohen's d für 'männlich - schwarz' und 'weiblich - schwarz': 0.091\n",
      "Cohen's d für 'männlich - weiß' und 'weiblich - schwarz': 0.072\n"
     ]
    }
   ],
   "source": [
    "# Bestimmung des Cohen's d Wert\n",
    "\n",
    "cohens_d_ergebnisse_haeufigkeiten = []\n",
    "\n",
    "# Bestimmung des Cohen's d Wert für die vorkommenden Geschlecht-Ethnie Kombinationen \n",
    "for i, row in df_evaluation.iterrows():\n",
    "    g1 = df[df['gender_race'] == row['Gruppe 1']]['count_total'] # Gruppe 1\n",
    "    g2 = df[df['gender_race'] == row['Gruppe 2']]['count_total'] # Gruppe 2\n",
    "    d_haeufigkeiten = calculate_cohens_d(g1, g2)\n",
    "    cohens_d_ergebnisse_haeufigkeiten.append(d_haeufigkeiten)\n",
    "    print(f\"Cohen's d für '{row['Gruppe 1']}' und '{row['Gruppe 2']}': {d_haeufigkeiten}\")\n",
    "\n",
    "# Neue Spalte zum bestehenden DataFrame hinzufügen\n",
    "df_evaluation[\"Häufigkeit\"] = cohens_d_ergebnisse_haeufigkeiten"
   ]
  },
  {
   "cell_type": "markdown",
   "metadata": {},
   "source": [
    "### **Kookkurrenzmatrix**"
   ]
  },
  {
   "cell_type": "code",
   "execution_count": 60,
   "metadata": {},
   "outputs": [
    {
     "name": "stdout",
     "output_type": "stream",
     "text": [
      "Top 10 Kookkurrenzwörter weiblich-weiß:\n",
      "(14, 0), (7, 0), (10, 0), (1, 0), (12, 0), (34, 0), (17, 0), (20, 0), (60, 0), (373, 0)\n",
      "\n",
      "Top 10 Kookkurrenzwörter männlich-schwarz:\n",
      "(2, 0), (19, 0), (373, 0), (76, 0), (1, 0), (3, 0), (115, 0), (70, 0), (52, 0), (6, 0)\n",
      "\n",
      "Top 10 Kookkurrenzwörter weiblich-schwarz:\n",
      "(14, 0), (7, 0), (10, 0), (1, 0), (12, 0), (178, 0), (422, 0), (64, 0), (29, 0), (3, 0)\n",
      "\n",
      "Top 10 Kookkurrenzwörter männlich-weiß:\n",
      "(34, 0), (178, 0), (17, 0), (20, 0), (1, 0), (60, 0), (2, 0), (19, 0), (76, 0), (86, 0)\n"
     ]
    }
   ],
   "source": [
    "# Kookkurrenzanalyse\n",
    "''' \n",
    "Funktion:       Bestimmung der Kookkurrenzhäufigkeiten\n",
    "Input:          target_words (Liste der Gruppenbegriffe für die die Kookkurrenzhäufigkeiten bestimmt werden soll)\n",
    "Output:         count_coocurrence (Kookkurrenzhäufigkeiten)\n",
    "Funktionsweise: Für jedes Zielwort werden die anderen Wörter in der Beschriftung geprüft und gezählt, wie oft das Zielwort gemeinsamm mit den Nicht-Zielworten im selben Satz vorkommt.\n",
    "'''\n",
    "def get_combined_coocurrence(target_words):\n",
    "    count_coocurrence = Counter()\n",
    "    for tokens in df['clean_caption']:\n",
    "        for i, wort in enumerate(tokens):\n",
    "            if wort in target_words:\n",
    "                for j, partner in enumerate(tokens):\n",
    "                    if i == j:\n",
    "                        continue  \n",
    "                    if partner not in target_words:\n",
    "                        count_coocurrence[(wort, partner)] += 1\n",
    "    return count_coocurrence\n",
    "\n",
    "doc_freq = Counter() # Zählt wie häufig jedes Wort in den Texten vorkommt\n",
    "for tokens in df['clean_caption']:\n",
    "    doc_freq.update(set(tokens))\n",
    "\n",
    "length_df = len(df)\n",
    "\n",
    "\n",
    " #  Zählung, wie oft jedes Wort in den Beschriftungen vorkommt\n",
    "doc_freq = Counter()\n",
    "for tokens in df['clean_caption']:\n",
    "    doc_freq.update(set(tokens))\n",
    "\n",
    "# Länge des Datensatzes\n",
    "length_df = len(df)\n",
    "\n",
    "''' \n",
    "Funktion:       Bestimmung des PMI-Wertes für zwei Wörter w1 und w2\n",
    "Input:          w1 (Wort 1)\n",
    "                w1 (Wort 2)\n",
    "                count_coocurrence (Anzahl der Beschriftungen in denen w1 und w2 gemeinsam vorkommen)\n",
    "Output:         pmi (PMI-Wert)\n",
    "Funktionsweise: Basierend auf der PMI-Formel (log(p(w1,w2)/p(w1)p(w2))) wird der PMI-Wert bestimmt. \n",
    "'''\n",
    "def get_pmi(w1, w2, count_coocurrence):\n",
    "    p_w1 = doc_freq[w1] / length_df # p(w1)\n",
    "    p_w2 = doc_freq[w2] / length_df # p(w2)\n",
    "    p_w1w2 = count_coocurrence.get((w1, w2), 0) / length_df #p(w1,w2)\n",
    "    if p_w1w2 == 0:\n",
    "        return 0\n",
    "    pmi = round(math.log2(p_w1w2 / (p_w1 * p_w2)), 2) # PMI-Wert\n",
    "    return pmi\n",
    "\n",
    "''' \n",
    "Funktion:       Bestimmung der top 10 Kookkurrenzwörter \n",
    "Input:          target_words (Liste der Gruppenbegriffe für die die top 10 Wörter bestimmt werden)\n",
    "Output:         top_words (Top 10 Wörter)\n",
    "Funktionsweise: Für die Zielwörter werden die Kookkurrenzhäufigkeiten mit allen Wortpaaren bestimmt. Für jedes Wortpaar wird der PMI bestimmt. Die 10 Wörter mit dem höchsten PMI Wert werden ausgegeben. \n",
    "'''\n",
    "def get_coocurrence(target_words):\n",
    "    cooc_counts = get_combined_coocurrence(target_words) # Für die Zielwörter werden die Kookkurrenzhäufigkeiten mit allen anderen Wörtern bestimmt\n",
    "    pmi_scores = {}\n",
    "    for (i, j) in cooc_counts.items(): # Für jedes Kookkurrenzpaat wird der PMI-Wert bestimmt \n",
    "        score_temp = get_pmi(i, j, cooc_counts)\n",
    "        if j not in pmi_scores or score_temp > pmi_scores[j]: # Wenn Wort j mit mehreren Zielwörtern vorkommt, wird der jeweils höchste PMI-Wert gespeichert\n",
    "            pmi_scores[j] = score_temp\n",
    "    top_10_words = sorted(pmi_scores.items(), key=lambda x: -x[1])[:10] # Top 10 Kookkurrenzwörter mit dem höchsten PMI Wert werden gespeichert\n",
    "    return(top_10_words)\n",
    "\n",
    "# Anwendung der Funktion get_coocurrence auf die weiblich-weiß Begriffe\n",
    "top_words_female_white = get_coocurrence(list_female_white_words)\n",
    "# Anwendung der Funktion get_coocurrence auf die männlich-schwarz Begriffe\n",
    "top_words_male_black = get_coocurrence(list_male_black_words)\n",
    "# Anwendung der Funktion get_coocurrence auf die weiblich-schwarz Begriffe\n",
    "top_words_female_black = get_coocurrence(list_female_black_words)\n",
    "# Anwendung der Funktion get_coocurrence auf die männlich-weiß Begriffe\n",
    "top_words_male_white = get_coocurrence(list_male_white_words)\n",
    "\n",
    "# Top 10 Kookkurrenzwörter pro Gruppenkombination\n",
    "print(\"Top 10 Kookkurrenzwörter weiblich-weiß:\")\n",
    "print(\", \".join(f\"({repr(wort)}, {score})\" for wort, score in top_words_female_white))\n",
    "\n",
    "print(\"\\nTop 10 Kookkurrenzwörter männlich-schwarz:\")\n",
    "print(\", \".join(f\"({repr(wort)}, {score})\" for wort, score in top_words_male_black))\n",
    "\n",
    "print(\"\\nTop 10 Kookkurrenzwörter weiblich-schwarz:\")\n",
    "print(\", \".join(f\"({repr(wort)}, {score})\" for wort, score in top_words_female_black))\n",
    "\n",
    "print(\"\\nTop 10 Kookkurrenzwörter männlich-weiß:\")\n",
    "print(\", \".join(f\"({repr(wort)}, {score})\" for wort, score in top_words_male_white))"
   ]
  },
  {
   "cell_type": "code",
   "execution_count": 61,
   "metadata": {},
   "outputs": [
    {
     "name": "stdout",
     "output_type": "stream",
     "text": [
      "Top 10 Kookkurrenzwörter weiblich-weiß:\n",
      "('straw', 9.24), ('lab', 9.24), ('descends', 9.24), ('fingers', 8.82), ('attire', 8.82), ('urban', 8.24), ('follows', 8.24), ('dance', 8.24), ('band', 8.24), ('courtyard', 8.24)\n",
      "\n",
      "Top 10 Kookkurrenzwörter männlich-schwarz:\n",
      "('vert', 9.24), ('bleached', 9.24), ('propels', 9.24), ('tips', 8.24), ('style', 8.24), ('include', 8.01), ('dodges', 8.01), ('tackle', 8.01), ('wal', 8.01), ('mart', 8.01)\n",
      "\n",
      "Top 10 Kookkurrenzwörter weiblich-schwarz:\n",
      "('vert', 9.24), ('bleached', 9.24), ('propels', 9.24), ('lab', 9.24), ('descends', 9.24), ('fingers', 8.82), ('urban', 8.24), ('follows', 8.24), ('tips', 8.24), ('style', 8.24)\n",
      "\n",
      "Top 10 Kookkurrenzwörter männlich-weiß:\n",
      "('straw', 9.24), ('attire', 8.82), ('dance', 8.24), ('band', 8.24), ('courtyard', 8.24), ('redheaded', 8.24), ('brightlycolored', 8.24), ('fighting', 8.24), ('include', 8.01), ('dodges', 8.01)\n"
     ]
    }
   ],
   "source": [
    "# Kookkurrenzanalyse\n",
    "''' \n",
    "Funktion:       Bestimmung der Kookkurrenzhäufigkeiten\n",
    "Input:          target_words (Liste der Gruppenbegriffe für die die Kookkurrenzhäufigkeiten bestimmt werden soll)\n",
    "Output:         count_coocurrence (Kookkurrenzhäufigkeiten)\n",
    "Funktionsweise: Für jedes Zielwort werden die anderen Wörter in der Beschriftung geprüft und gezählt, wie oft das Zielwort gemeinsamm mit den Nicht-Zielworten im selben Satz vorkommt.\n",
    "'''\n",
    "def get_combined_coocurrence(target_words):\n",
    "    count_coocurrence = Counter()\n",
    "    \n",
    "    for tokens in df['clean_caption']:\n",
    "        for i, wort in enumerate(tokens):\n",
    "            if wort in target_words:\n",
    "                # Schleife über alle anderen Wörter im Satz\n",
    "                for j, partner in enumerate(tokens):\n",
    "                    if i == j:\n",
    "                        continue  # kein Self-Pair\n",
    "                    if partner not in target_words:\n",
    "                        count_coocurrence[(wort, partner)] += 1\n",
    "    return count_coocurrence\n",
    "\n",
    "doc_freq = Counter() # Zählt wie häufig jedes Wort in den Texten vorkommt\n",
    "for tokens in df['clean_caption']:\n",
    "    doc_freq.update(set(tokens))\n",
    "\n",
    "length_df = len(df)\n",
    "\n",
    "''' \n",
    "Funktion:       Bestimmung des PMI-Wertes für zwei Wörter w1 und w2\n",
    "Input:          w1 (Wort 1)\n",
    "                w1 (Wort 2)\n",
    "                count_coocurrence (Anzahl der Beschriftungen in denen w1 und w2 gemeinsam vorkommen)\n",
    "Output:         pmi (PMI-Wert)\n",
    "Funktionsweise: Basierend auf der PMI-Formel (log(p(w1,w2)/p(w1)p(w2))) wird der PMI-Wert bestimmt. \n",
    "'''\n",
    "def pmi(w1, w2, count_coocurrence):\n",
    "    p_w1 = doc_freq[w1] / length_df\n",
    "    p_w2 = doc_freq[w2] / length_df\n",
    "    p_w1w2 = count_coocurrence.get((w1, w2), 0) / length_df\n",
    "    if p_w1w2 == 0:\n",
    "        return 0\n",
    "    pmi = round(math.log2(p_w1w2 / (p_w1 * p_w2)), 2)\n",
    "    return pmi\n",
    "\n",
    "# TODO Beschriebung Funktion\n",
    "''' \n",
    "Funktion:       Bestimmung der top 10 Kookkurrenzwörter \n",
    "Input:          zielwörter (Liste der Gruppenbegriffe für die die top 10 Wörter bestimmt werden)\n",
    "Output:         top_words (Top 10 Wörter)\n",
    "Funktionsweise: Für die Zielwörter werden die Kookkurrenzhäufigkeiten mit allen Wortpaaren\n",
    "'''\n",
    "def get_coocurrence_perList(zielwörter):\n",
    "    cooc_counts = get_combined_coocurrence(zielwörter)\n",
    "    pmi_scores = {}\n",
    "    for (zielwort, partner), count in cooc_counts.items():\n",
    "        score = pmi(zielwort, partner, cooc_counts)\n",
    "        if partner not in pmi_scores or score > pmi_scores[partner]:\n",
    "            pmi_scores[partner] = score\n",
    "    top_10_words = sorted(pmi_scores.items(), key=lambda x: -x[1])[:10]\n",
    "    return(top_10_words)\n",
    "\n",
    "\n",
    "top_words_female_white = get_coocurrence_perList(list_female_white_words)\n",
    "top_words_male_black = get_coocurrence_perList(list_male_black_words)\n",
    "top_words_female_black = get_coocurrence_perList(list_female_black_words)\n",
    "top_words_male_white = get_coocurrence_perList(list_male_white_words)\n",
    "\n",
    "# Top 10 Kookkurrenzwörter\n",
    "print(\"Top 10 Kookkurrenzwörter weiblich-weiß:\")\n",
    "print(\", \".join(f\"({repr(wort)}, {score})\" for wort, score in top_words_female_white))\n",
    "\n",
    "print(\"\\nTop 10 Kookkurrenzwörter männlich-schwarz:\")\n",
    "print(\", \".join(f\"({repr(wort)}, {score})\" for wort, score in top_words_male_black))\n",
    "\n",
    "print(\"\\nTop 10 Kookkurrenzwörter weiblich-schwarz:\")\n",
    "print(\", \".join(f\"({repr(wort)}, {score})\" for wort, score in top_words_female_black))\n",
    "\n",
    "print(\"\\nTop 10 Kookkurrenzwörter männlich-weiß:\")\n",
    "print(\", \".join(f\"({repr(wort)}, {score})\" for wort, score in top_words_male_white))\n"
   ]
  },
  {
   "cell_type": "code",
   "execution_count": 46,
   "metadata": {},
   "outputs": [
    {
     "name": "stdout",
     "output_type": "stream",
     "text": [
      "Cohen's d für 'männlich - schwarz' und 'weiblich - weiß': 0\n",
      "Cohen's d für 'männlich - weiß' und 'weiblich - weiß': 0\n",
      "Cohen's d für 'männlich - schwarz' und 'weiblich - schwarz': 0\n",
      "Cohen's d für 'männlich - weiß' und 'weiblich - schwarz': 0\n"
     ]
    }
   ],
   "source": [
    "# Bestimmung des Cohen's d Wert\n",
    "\n",
    "intersectional_groups_coocurence = {\n",
    "    'weiblich - weiß': list_female_white_words,\n",
    "    'männlich - schwarz': list_male_black_words,\n",
    "    'männlich - weiß': list_male_white_words,\n",
    "    'weiblich - schwarz': list_female_black_words\n",
    "}\n",
    "\n",
    "cohens_d_ergebnisse_kookkurrenz = []\n",
    "\n",
    "# Bestimmung des Cohen's d Wert für die vorkommenden Geschlecht-Ethnie Kombinationen \n",
    "for gruppe1, gruppe2 in intersectional_groups:\n",
    "    g1 = [pmi for _, pmi in get_coocurrence(intersectional_groups_coocurence[gruppe1])]\n",
    "    g2 = [pmi for _, pmi in get_coocurrence(intersectional_groups_coocurence[gruppe2])]\n",
    "    d_kookkurrenz = calculate_cohens_d(g1, g2)\n",
    "    cohens_d_ergebnisse_kookkurrenz.append(round(d_kookkurrenz, 3))\n",
    "    print(f\"Cohen's d für '{gruppe1}' und '{gruppe2}': {d_kookkurrenz}\")\n",
    "\n",
    "# Neue Spalte zum bestehenden DataFrame hinzufügen\n",
    "df_evaluation[\"Kookkurenz\"] = cohens_d_ergebnisse_kookkurrenz"
   ]
  },
  {
   "cell_type": "markdown",
   "metadata": {},
   "source": [
    "#### **Sentiment Analyse**"
   ]
  },
  {
   "cell_type": "code",
   "execution_count": 47,
   "metadata": {},
   "outputs": [
    {
     "name": "stderr",
     "output_type": "stream",
     "text": [
      "Device set to use mps:0\n"
     ]
    }
   ],
   "source": [
    "# Laden des Sentiment Analyse Modells\n",
    "sentiment_pipeline = pipeline(\"sentiment-analysis\", model=\"distilbert/distilbert-base-uncased-finetuned-sst-2-english\")\n",
    "\n",
    "# Anwendung der Sentiment Analyse auf die (unaufbereiteten) Beschriftungen\n",
    "df[\"sentiment\"] = df[\"caption\"].apply(lambda x: sentiment_pipeline(x)[0][\"label\"])\n",
    "\n",
    "# Quelle: HuggingFace. DistilBERT. Abgerufen am 04.07.2025 von https://huggingface.co/docs/transformers/model_doc/distilbert"
   ]
  },
  {
   "cell_type": "code",
   "execution_count": 48,
   "metadata": {},
   "outputs": [
    {
     "name": "stdout",
     "output_type": "stream",
     "text": [
      "          gender_race sentiment  count\n",
      "0  männlich - schwarz  NEGATIVE    403\n",
      "1  männlich - schwarz  POSITIVE    143\n",
      "2     männlich - weiß  NEGATIVE    301\n",
      "3     männlich - weiß  POSITIVE    210\n",
      "4  weiblich - schwarz  NEGATIVE    235\n",
      "5  weiblich - schwarz  POSITIVE    138\n",
      "6     weiblich - weiß  NEGATIVE    181\n",
      "7     weiblich - weiß  POSITIVE    199\n"
     ]
    },
    {
     "data": {
      "image/png": "[encoded data removed]",
      "text/plain": [
       "<Figure size 1600x600 with 1 Axes>"
      ]
     },
     "metadata": {},
     "output_type": "display_data"
    }
   ],
   "source": [
    "# Sentiment pro geschlechtsspezifischer und ethnischer Klasse\n",
    "result_sentiment = df.groupby(['gender_race', 'sentiment']).size().reset_index(name='count')\n",
    "print(result_sentiment)\n",
    "\n",
    "# Plot: Sentimentverteilung nach geschlechtsspezifischer und ethnischer Klassifizierungen\n",
    "color_palette = {'NEGATIVE': 'red','POSITIVE': 'green'}\n",
    "plt.figure(figsize=(16, 6))\n",
    "ax = sns.barplot(data=result_sentiment,x='gender_race',y='count',hue='sentiment', palette=color_palette)\n",
    "plt.title('Sentimentverteilung nach geschlechtsspezifischer und ethnischer Klassifizierungen')\n",
    "plt.xlabel('')\n",
    "plt.ylabel('')\n",
    "ax.yaxis.set_visible(False)  # Y-Achse nicht anzeigen\n",
    "ax.spines['left'].set_visible(False)  # Kein Rahmen\n",
    "ax.spines['top'].set_visible(False)\n",
    "ax.spines['right'].set_visible(False)\n",
    "ax.set_xticks(range(len(result_sentiment['gender_race'].unique())))\n",
    "ax.set_xticklabels(result_sentiment['gender_race'].unique(), rotation=45, ha='right')\n",
    "plt.xticks(rotation=45)\n",
    "plt.legend(title='Sentiment',bbox_to_anchor=(1.02, 1),loc='upper left',borderaxespad=0) # Legende auf die rechten Seite der Grafik setzten\n",
    "for container in ax.containers: # Werte innerhalb des Balkens anzeigen\n",
    "    ax.bar_label(container, label_type='edge', padding=-11, fontsize=9, color='white')\n",
    "plt.tight_layout()\n",
    "plt.show()"
   ]
  },
  {
   "cell_type": "code",
   "execution_count": 49,
   "metadata": {},
   "outputs": [],
   "source": [
    "# Sentiment Ergebnis in numerischen Datentyp ändern (Für die Bestimmung des Cohen's d Werts)\n",
    "label_map = {\n",
    "    'NEGATIVE': -1,\n",
    "    'NEUTRAL': 0,\n",
    "    'POSITIVE': 1\n",
    "}\n",
    "df['sentiment_score'] = df['sentiment'].map(label_map)"
   ]
  },
  {
   "cell_type": "code",
   "execution_count": 50,
   "metadata": {},
   "outputs": [
    {
     "name": "stdout",
     "output_type": "stream",
     "text": [
      "Cohen's d für 'männlich - schwarz' und 'weiblich - weiß': 0.562\n",
      "Cohen's d für 'männlich - weiß' und 'weiblich - weiß': 0.227\n",
      "Cohen's d für 'männlich - schwarz' und 'weiblich - schwarz': 0.236\n",
      "Cohen's d für 'männlich - weiß' und 'weiblich - schwarz': 0.084\n"
     ]
    }
   ],
   "source": [
    "# Bestimmung des Cohen's d Wert\n",
    "\n",
    "cohens_d_ergebnisse_sentiment = []\n",
    "\n",
    "# Bestimmung des Cohen's d Wert für die vorkommenden Geschlecht-Ethnie Kombinationen \n",
    "for gruppe1, gruppe2 in intersectional_groups:\n",
    "    g1 = df[df['gender_race'] == gruppe1]['sentiment_score']\n",
    "    g2 = df[df['gender_race'] == gruppe2]['sentiment_score']\n",
    "    d_sentiment = calculate_cohens_d(g1, g2)\n",
    "    cohens_d_ergebnisse_sentiment.append(round(d_sentiment, 3))\n",
    "    print(f\"Cohen's d für '{gruppe1}' und '{gruppe2}': {d_sentiment}\")\n",
    "\n",
    "# Neue Spalte zum bestehenden DataFrame hinzufügen\n",
    "df_evaluation[\"Sentiment\"] = cohens_d_ergebnisse_sentiment"
   ]
  },
  {
   "cell_type": "markdown",
   "metadata": {},
   "source": [
    "### **WEAT**"
   ]
  },
  {
   "cell_type": "code",
   "execution_count": 51,
   "metadata": {},
   "outputs": [],
   "source": [
    "# Laden des WEAT Models\n",
    "glove_model = api.load(\"glove-wiki-gigaword-300\")\n",
    "wefe_model = WordEmbeddingModel(glove_model, \"glove-wiki-gigaword-300\") # Umwandlung in WEFE Format\n",
    "\n",
    "# Quelle: de Ciencias de la Computaci´on Universidad de Chile, D. Bias Measurement. Abgerufen am 01.08.2025 von https://github.com/dccuchile/wefe/blob/develop/docs/user guide/measurement user guide.rst"
   ]
  },
  {
   "cell_type": "code",
   "execution_count": 52,
   "metadata": {},
   "outputs": [],
   "source": [
    "# Bestimmung der in den Beschriftung vorkommenden Adjektive \n",
    "nlp = spacy.load(\"en_core_web_sm\")\n",
    "\n",
    "list_adjective = set()\n",
    "\n",
    "for text in df['clean_caption_string']:\n",
    "    doc = nlp(text)\n",
    "    list_adjective.update([token.text for token in doc if token.pos_ == 'ADJ'])\n",
    "\n",
    "with open(\"adjektive.txt\", \"w\", encoding=\"utf-8\") as f:\n",
    "    for adj in sorted(list_adjective):\n",
    "        f.write(adj + \", \")"
   ]
  },
  {
   "cell_type": "code",
   "execution_count": 53,
   "metadata": {},
   "outputs": [],
   "source": [
    "# Attributslisten definieren\n",
    "\n",
    "# Basierend auf die identifizierten Adjektiv-Begriffe werden zwei Attributsgruppen (positiv, negatvi) festgelegt.\n",
    "\n",
    "attribute_set_1 = [\n",
    "    \"alert\", \"athletic\", \"balanced\", \"beautiful\", \"bright\", \"cheerful\",\n",
    "    \"clear\", \"colorful\", \"elaborate\", \"fair\", \"fancy\", \"fast\", \"floral\", \n",
    "    \"fluffy\", \"formal\", \"free\", \"funny\", \"golden\", \"grand\", \"grassy\", \"happy\",\n",
    "    \"high\", \"hot\", \"light\", \"modern\", \"muscular\", \"pretty\", \"pro\", \"ready\",\n",
    "    \"robust\", \"rosy\", \"smooth\", \"soft\", \"sunny\", \"tall\", \"traditional\",\n",
    "    \"tropical\", \"uplifted\", \"young\", \"younger\"\n",
    "]\n",
    "\n",
    "attribute_set_2 = [\n",
    "    \"aged\", \"asleep\", \"back\", \"bad\", \"bald\", \"bland\", \"blurry\",\n",
    "    \"cheap\", \"cloudy\", \"coarse\", \"cold\", \"confused\", \"crowded\",\n",
    "    \"dark\", \"dry\", \"fallen\", \"fuzzy\", \"handicapped\", \"hard\", \n",
    "    \"homeless\", \"muddy\", \"murky\", \"obscure\", \"old\", \"older\", \n",
    "    \"oldfashioned\", \"poor\", \"rough\", \"shallow\", \"short\", \"silly\", \n",
    "    \"skimpy\", \"skinny\", \"small\", \"smaller\", \"steep\", \"strange\", \n",
    "    \"thin\", \"tough\", \"weird\", \"wet\"\n",
    "]\n",
    "\n",
    "# Bestimmung der Attributsgruppen: ChatGPT (2025), siehe Anhang D"
   ]
  },
  {
   "cell_type": "code",
   "execution_count": 54,
   "metadata": {},
   "outputs": [],
   "source": [
    "# Ziellisten definieren\n",
    "\n",
    "target_set_1_1 = list_male_black_words\n",
    "target_set_2_1 = list_female_white_words\n",
    "\n",
    "target_set_1_2 = list_male_black_words\n",
    "target_set_2_2 = list_female_black_words\n",
    "\n",
    "target_set_1_3 = list_male_white_words\n",
    "target_set_2_3 = list_female_white_words\n",
    "\n",
    "target_set_1_4 = list_male_white_words\n",
    "target_set_2_4 = list_female_black_words"
   ]
  },
  {
   "cell_type": "code",
   "execution_count": 55,
   "metadata": {},
   "outputs": [],
   "source": [
    "# WEAT berechnen\n",
    "\n",
    "weat = WEAT()\n",
    "\n",
    "query_1 = Query(\n",
    "    target_sets=[target_set_1_1, target_set_2_1],\n",
    "    attribute_sets=[attribute_set_1, attribute_set_2],\n",
    ")\n",
    "query_2 = Query(\n",
    "    target_sets=[target_set_1_2, target_set_2_2],\n",
    "    attribute_sets=[attribute_set_1, attribute_set_2],\n",
    ")\n",
    "query_3 = Query(\n",
    "    target_sets=[target_set_1_3, target_set_2_3],\n",
    "    attribute_sets=[attribute_set_1, attribute_set_2],\n",
    ")\n",
    "query_4 = Query(\n",
    "    target_sets=[target_set_1_4, target_set_2_4],\n",
    "    attribute_sets=[attribute_set_1, attribute_set_2],\n",
    ")"
   ]
  },
  {
   "cell_type": "code",
   "execution_count": 56,
   "metadata": {},
   "outputs": [
    {
     "name": "stdout",
     "output_type": "stream",
     "text": [
      "Effektstärke für Zielgruppen männlich - schwarz und weiblich - weiß: -0.310\n",
      "Effektstärke für Zielgruppen männlich - schwarz und weiblich - schwarz: -0.357\n",
      "Effektstärke für Zielgruppen männlich - weiß und weiblich - weiß: -0.368\n",
      "Effektstärke für Zielgruppen männlich - weiß und weiblich - schwarz: -0.415\n"
     ]
    }
   ],
   "source": [
    "intersectional_groups_weat = [\n",
    "    (\"männlich - schwarz\", \"weiblich - weiß\", query_1),\n",
    "    (\"männlich - schwarz\", \"weiblich - schwarz\", query_2),\n",
    "    (\"männlich - weiß\", \"weiblich - weiß\", query_3),\n",
    "    (\"männlich - weiß\", \"weiblich - schwarz\", query_4),\n",
    "]\n",
    "\n",
    "cohens_d_ergebnisse_weat = []\n",
    "\n",
    "# Bestimmung des Cohen's d Wert für die vorkommenden Geschlecht-Ethnie Kombinationen \n",
    "for gruppe1, gruppe2, query in intersectional_groups_weat:\n",
    "    result = weat.run_query(query, model=wefe_model, permutations=10000)\n",
    "    effect_size = result[\"effect_size\"]\n",
    "    cohens_d_ergebnisse_weat.append(round(effect_size, 3))\n",
    "    print(f\"Effektstärke für Zielgruppen {gruppe1} und {gruppe2}: {result['effect_size']:.3f}\")\n",
    "\n",
    "# Neue Spalte zum bestehenden DataFrame hinzufügen\n",
    "df_evaluation[\"WEAT\"] = cohens_d_ergebnisse_weat"
   ]
  },
  {
   "cell_type": "markdown",
   "metadata": {},
   "source": [
    "### **Vergleich der Cohen's d bzw. Effektstärke**"
   ]
  },
  {
   "cell_type": "code",
   "execution_count": 57,
   "metadata": {},
   "outputs": [
    {
     "data": {
      "text/html": [
       "<div>\n",
       "<style scoped>\n",
       "    .dataframe tbody tr th:only-of-type {\n",
       "        vertical-align: middle;\n",
       "    }\n",
       "\n",
       "    .dataframe tbody tr th {\n",
       "        vertical-align: top;\n",
       "    }\n",
       "\n",
       "    .dataframe thead th {\n",
       "        text-align: right;\n",
       "    }\n",
       "</style>\n",
       "<table border=\"1\" class=\"dataframe\">\n",
       "  <thead>\n",
       "    <tr style=\"text-align: right;\">\n",
       "      <th></th>\n",
       "      <th>Gruppe 1</th>\n",
       "      <th>Gruppe 2</th>\n",
       "      <th>Häufigkeit</th>\n",
       "      <th>Kookkurenz</th>\n",
       "      <th>Sentiment</th>\n",
       "      <th>WEAT</th>\n",
       "    </tr>\n",
       "  </thead>\n",
       "  <tbody>\n",
       "    <tr>\n",
       "      <th>0</th>\n",
       "      <td>männlich - schwarz</td>\n",
       "      <td>weiblich - weiß</td>\n",
       "      <td>0.077</td>\n",
       "      <td>0</td>\n",
       "      <td>0.562</td>\n",
       "      <td>-0.310</td>\n",
       "    </tr>\n",
       "    <tr>\n",
       "      <th>1</th>\n",
       "      <td>männlich - weiß</td>\n",
       "      <td>weiblich - weiß</td>\n",
       "      <td>0.059</td>\n",
       "      <td>0</td>\n",
       "      <td>0.227</td>\n",
       "      <td>-0.357</td>\n",
       "    </tr>\n",
       "    <tr>\n",
       "      <th>2</th>\n",
       "      <td>männlich - schwarz</td>\n",
       "      <td>weiblich - schwarz</td>\n",
       "      <td>0.091</td>\n",
       "      <td>0</td>\n",
       "      <td>0.236</td>\n",
       "      <td>-0.368</td>\n",
       "    </tr>\n",
       "    <tr>\n",
       "      <th>3</th>\n",
       "      <td>männlich - weiß</td>\n",
       "      <td>weiblich - schwarz</td>\n",
       "      <td>0.072</td>\n",
       "      <td>0</td>\n",
       "      <td>0.084</td>\n",
       "      <td>-0.415</td>\n",
       "    </tr>\n",
       "  </tbody>\n",
       "</table>\n",
       "</div>"
      ],
      "text/plain": [
       "             Gruppe 1            Gruppe 2  Häufigkeit  Kookkurenz  Sentiment  \\\n",
       "0  männlich - schwarz     weiblich - weiß       0.077           0      0.562   \n",
       "1     männlich - weiß     weiblich - weiß       0.059           0      0.227   \n",
       "2  männlich - schwarz  weiblich - schwarz       0.091           0      0.236   \n",
       "3     männlich - weiß  weiblich - schwarz       0.072           0      0.084   \n",
       "\n",
       "    WEAT  \n",
       "0 -0.310  \n",
       "1 -0.357  \n",
       "2 -0.368  \n",
       "3 -0.415  "
      ]
     },
     "execution_count": 57,
     "metadata": {},
     "output_type": "execute_result"
    }
   ],
   "source": [
    "df_evaluation"
   ]
  },
  {
   "cell_type": "code",
   "execution_count": 58,
   "metadata": {},
   "outputs": [
    {
     "data": {
      "image/png": "[encoded data removed]",
      "text/plain": [
       "<Figure size 1000x600 with 1 Axes>"
      ]
     },
     "metadata": {},
     "output_type": "display_data"
    }
   ],
   "source": [
    "# Plot: Vergleich des Cohen's d Wertes bzw. der Effektstärke pro intersektionelle Gruppe\n",
    "df_evaluation['Gruppenpaar'] = df_evaluation['Gruppe 1'] + ' & ' + df_evaluation['Gruppe 2']\n",
    "df_plot = df_evaluation[['Gruppenpaar', \"Häufigkeit\", \"Kookkurenz\", \"Sentiment\", 'WEAT']].copy()\n",
    "df_plot[[\"Häufigkeit\", \"Kookkurenz\", \"Sentiment\", 'WEAT']] = df_plot[[\"Häufigkeit\", \"Kookkurenz\", \"Sentiment\", 'WEAT']].round(2)\n",
    "df_plot.set_index('Gruppenpaar').plot(kind='bar', figsize=(10,6))\n",
    "plt.ylabel('')\n",
    "plt.xlabel('')\n",
    "plt.title(\"Vergleich des Cohen's d Wertes bzw. der Effektstärke pro intersektionelle Gruppe\")\n",
    "plt.xticks(rotation=45, ha='right')\n",
    "plt.tight_layout()\n",
    "for spine in plt.gca().spines.values(): # Kein Rahmen\n",
    "    spine.set_visible(False)\n",
    "ax = plt.gca()\n",
    "ax.yaxis.set_visible(False)  # Y-Achse ausblenden \n",
    "plt.legend(title='Methode',bbox_to_anchor=(1.02, 1),loc='upper left',borderaxespad=0) # Legende auf die rechten Seite der Grafik setzten\n",
    "for container in ax.containers: # Werte innerhalb des Balkens anzeigen\n",
    "    ax.bar_label(container, label_type='edge', padding=-11, fontsize=9, color='white')\n",
    "plt.show()"
   ]
  },
  {
   "cell_type": "markdown",
   "metadata": {},
   "source": [
    "***\n",
    "***"
   ]
  }
 ],
 "metadata": {
  "kernelspec": {
   "display_name": "Python 3",
   "language": "python",
   "name": "python3"
  },
  "language_info": {
   "codemirror_mode": {
    "name": "ipython",
    "version": 3
   },
   "file_extension": ".py",
   "mimetype": "text/x-python",
   "name": "python",
   "nbconvert_exporter": "python",
   "pygments_lexer": "ipython3",
   "version": "3.11.4"
  }
 },
 "nbformat": 4,
 "nbformat_minor": 2
}
